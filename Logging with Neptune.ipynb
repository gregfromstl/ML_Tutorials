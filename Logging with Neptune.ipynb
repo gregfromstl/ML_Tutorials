{
 "cells": [
  {
   "cell_type": "markdown",
   "metadata": {},
   "source": [
    "# Logging with Neptune\n",
    "\n",
    "## Introduction\n",
    "\n",
    "Neptune is a machine learning experiment logger that I've been using a lot recently. I've found it to be far more intuitive and powerful than Tensorboard. The setup is incredibly quick and it makes tracking, analyzing, and sharing results so much easier."
   ]
  },
  {
   "cell_type": "markdown",
   "metadata": {},
   "source": [
    "## Getting Started\n"
   ]
  },
  {
   "cell_type": "markdown",
   "metadata": {},
   "source": [
    "### Installation\n",
    "Neptune behaves just like any other python package, except it communicates with neptune's servers in the background to send all your logs to a constantly accessible web app UI.\n",
    "To install the neptune client on Mac or Linux, run the following command either in this notebook or in terminal:"
   ]
  },
  {
   "cell_type": "code",
   "execution_count": 1,
   "metadata": {},
   "outputs": [
    {
     "name": "stdout",
     "output_type": "stream",
     "text": [
      "Requirement already satisfied: neptune-client in /student/rolwesg/.local/lib/python3.7/site-packages (0.4.120)\n",
      "Requirement already satisfied: six>=1.12.0 in /usr/lib/python3.7/site-packages (from neptune-client) (1.12.0)\n",
      "Requirement already satisfied: future>=0.17.1 in /student/rolwesg/.local/lib/python3.7/site-packages (from neptune-client) (0.18.2)\n",
      "Requirement already satisfied: py3nvml in /student/rolwesg/.local/lib/python3.7/site-packages (from neptune-client) (0.2.6)\n",
      "Requirement already satisfied: requests-oauthlib>=1.0.0 in /usr/local/lib/python3.7/site-packages (from neptune-client) (1.3.0)\n",
      "Requirement already satisfied: websocket-client>=0.35.0 in /student/rolwesg/.local/lib/python3.7/site-packages (from neptune-client) (0.57.0)\n",
      "Requirement already satisfied: packaging in /student/rolwesg/.local/lib/python3.7/site-packages (from neptune-client) (20.4)\n",
      "Requirement already satisfied: pandas in /usr/lib64/python3.7/site-packages (from neptune-client) (0.25.3)\n",
      "Requirement already satisfied: click>=7.0 in /student/rolwesg/.local/lib/python3.7/site-packages (from neptune-client) (7.1.1)\n",
      "Requirement already satisfied: Pillow>=1.1.6 in /usr/lib64/python3.7/site-packages (from neptune-client) (6.2.2)\n",
      "Requirement already satisfied: bravado in /student/rolwesg/.local/lib/python3.7/site-packages (from neptune-client) (10.6.2)\n",
      "Requirement already satisfied: PyJWT in /student/rolwesg/.local/lib/python3.7/site-packages (from neptune-client) (1.7.1)\n",
      "Requirement already satisfied: GitPython>=2.0.8 in /student/rolwesg/.local/lib/python3.7/site-packages (from neptune-client) (3.1.8)\n",
      "Requirement already satisfied: oauthlib>=2.1.0 in /usr/local/lib/python3.7/site-packages (from neptune-client) (3.1.0)\n",
      "Requirement already satisfied: requests>=2.20.0 in /usr/lib/python3.7/site-packages (from neptune-client) (2.22.0)\n",
      "Requirement already satisfied: xmltodict in /student/rolwesg/.local/lib/python3.7/site-packages (from py3nvml->neptune-client) (0.12.0)\n",
      "Requirement already satisfied: pyparsing>=2.0.2 in /usr/lib/python3.7/site-packages (from packaging->neptune-client) (2.4.0)\n",
      "Requirement already satisfied: python-dateutil>=2.6.1 in /usr/lib/python3.7/site-packages (from pandas->neptune-client) (2.8.0)\n",
      "Requirement already satisfied: pytz>=2017.2 in /usr/lib/python3.7/site-packages (from pandas->neptune-client) (2019.2)\n",
      "Requirement already satisfied: numpy>=1.13.3 in /usr/lib64/python3.7/site-packages (from pandas->neptune-client) (1.17.4)\n",
      "Requirement already satisfied: bravado-core>=5.16.1 in /student/rolwesg/.local/lib/python3.7/site-packages (from bravado->neptune-client) (5.17.0)\n",
      "Requirement already satisfied: monotonic in /student/rolwesg/.local/lib/python3.7/site-packages (from bravado->neptune-client) (1.5)\n",
      "Requirement already satisfied: simplejson in /student/rolwesg/.local/lib/python3.7/site-packages (from bravado->neptune-client) (3.17.2)\n",
      "Requirement already satisfied: msgpack-python in /student/rolwesg/.local/lib/python3.7/site-packages (from bravado->neptune-client) (0.5.6)\n",
      "Requirement already satisfied: typing-extensions in /student/rolwesg/.local/lib/python3.7/site-packages (from bravado->neptune-client) (3.7.4.3)\n",
      "Requirement already satisfied: pyyaml in /usr/lib64/python3.7/site-packages (from bravado->neptune-client) (5.3.1)\n",
      "Requirement already satisfied: gitdb<5,>=4.0.1 in /student/rolwesg/.local/lib/python3.7/site-packages (from GitPython>=2.0.8->neptune-client) (4.0.5)\n",
      "Requirement already satisfied: chardet<3.1.0,>=3.0.2 in /usr/lib/python3.7/site-packages (from requests>=2.20.0->neptune-client) (3.0.4)\n",
      "Requirement already satisfied: idna<2.9,>=2.5 in /usr/lib/python3.7/site-packages (from requests>=2.20.0->neptune-client) (2.8)\n",
      "Requirement already satisfied: urllib3!=1.25.0,!=1.25.1,<1.26,>=1.21.1 in /usr/lib/python3.7/site-packages (from requests>=2.20.0->neptune-client) (1.25.7)\n",
      "Requirement already satisfied: jsonref in /student/rolwesg/.local/lib/python3.7/site-packages (from bravado-core>=5.16.1->bravado->neptune-client) (0.2)\n",
      "Requirement already satisfied: msgpack>=0.5.2 in /student/rolwesg/.local/lib/python3.7/site-packages (from bravado-core>=5.16.1->bravado->neptune-client) (1.0.0)\n",
      "Requirement already satisfied: swagger-spec-validator>=2.0.1 in /student/rolwesg/.local/lib/python3.7/site-packages (from bravado-core>=5.16.1->bravado->neptune-client) (2.7.3)\n",
      "Requirement already satisfied: jsonschema[format]>=2.5.1 in /usr/local/lib/python3.7/site-packages (from bravado-core>=5.16.1->bravado->neptune-client) (3.2.0)\n",
      "Requirement already satisfied: smmap<4,>=3.0.1 in /student/rolwesg/.local/lib/python3.7/site-packages (from gitdb<5,>=4.0.1->GitPython>=2.0.8->neptune-client) (3.0.4)\n",
      "Requirement already satisfied: attrs>=17.4.0 in /usr/local/lib/python3.7/site-packages (from jsonschema[format]>=2.5.1->bravado-core>=5.16.1->bravado->neptune-client) (19.3.0)\n",
      "Requirement already satisfied: importlib-metadata; python_version < \"3.8\" in /student/rolwesg/.local/lib/python3.7/site-packages (from jsonschema[format]>=2.5.1->bravado-core>=5.16.1->bravado->neptune-client) (1.7.0)\n",
      "Requirement already satisfied: pyrsistent>=0.14.0 in /usr/local/lib64/python3.7/site-packages (from jsonschema[format]>=2.5.1->bravado-core>=5.16.1->bravado->neptune-client) (0.16.0)\n",
      "Requirement already satisfied: setuptools in /usr/lib/python3.7/site-packages (from jsonschema[format]>=2.5.1->bravado-core>=5.16.1->bravado->neptune-client) (41.6.0)\n",
      "Requirement already satisfied: jsonpointer>1.13; extra == \"format\" in /student/rolwesg/.local/lib/python3.7/site-packages (from jsonschema[format]>=2.5.1->bravado-core>=5.16.1->bravado->neptune-client) (2.0)\n",
      "Requirement already satisfied: webcolors; extra == \"format\" in /student/rolwesg/.local/lib/python3.7/site-packages (from jsonschema[format]>=2.5.1->bravado-core>=5.16.1->bravado->neptune-client) (1.11.1)\n",
      "Requirement already satisfied: rfc3987; extra == \"format\" in /student/rolwesg/.local/lib/python3.7/site-packages (from jsonschema[format]>=2.5.1->bravado-core>=5.16.1->bravado->neptune-client) (1.3.8)\n",
      "Requirement already satisfied: strict-rfc3339; extra == \"format\" in /student/rolwesg/.local/lib/python3.7/site-packages (from jsonschema[format]>=2.5.1->bravado-core>=5.16.1->bravado->neptune-client) (0.7)\n",
      "Requirement already satisfied: zipp>=0.5 in /usr/local/lib/python3.7/site-packages (from importlib-metadata; python_version < \"3.8\"->jsonschema[format]>=2.5.1->bravado-core>=5.16.1->bravado->neptune-client) (3.1.0)\n"
     ]
    }
   ],
   "source": [
    "!pip install neptune-client"
   ]
  },
  {
   "cell_type": "markdown",
   "metadata": {},
   "source": [
    "If you're on hopper, you may need to add the `user` flag:"
   ]
  },
  {
   "cell_type": "code",
   "execution_count": 2,
   "metadata": {},
   "outputs": [
    {
     "name": "stdout",
     "output_type": "stream",
     "text": [
      "Requirement already satisfied: neptune-client in /student/rolwesg/.local/lib/python3.7/site-packages (0.4.120)\n",
      "Requirement already satisfied: pandas in /usr/lib64/python3.7/site-packages (from neptune-client) (0.25.3)\n",
      "Requirement already satisfied: requests>=2.20.0 in /usr/lib/python3.7/site-packages (from neptune-client) (2.22.0)\n",
      "Requirement already satisfied: bravado in /student/rolwesg/.local/lib/python3.7/site-packages (from neptune-client) (10.6.2)\n",
      "Requirement already satisfied: PyJWT in /student/rolwesg/.local/lib/python3.7/site-packages (from neptune-client) (1.7.1)\n",
      "Requirement already satisfied: requests-oauthlib>=1.0.0 in /usr/local/lib/python3.7/site-packages (from neptune-client) (1.3.0)\n",
      "Requirement already satisfied: six>=1.12.0 in /usr/lib/python3.7/site-packages (from neptune-client) (1.12.0)\n",
      "Requirement already satisfied: Pillow>=1.1.6 in /usr/lib64/python3.7/site-packages (from neptune-client) (6.2.2)\n",
      "Requirement already satisfied: oauthlib>=2.1.0 in /usr/local/lib/python3.7/site-packages (from neptune-client) (3.1.0)\n",
      "Requirement already satisfied: py3nvml in /student/rolwesg/.local/lib/python3.7/site-packages (from neptune-client) (0.2.6)\n",
      "Requirement already satisfied: GitPython>=2.0.8 in /student/rolwesg/.local/lib/python3.7/site-packages (from neptune-client) (3.1.8)\n",
      "Requirement already satisfied: packaging in /student/rolwesg/.local/lib/python3.7/site-packages (from neptune-client) (20.4)\n",
      "Requirement already satisfied: websocket-client>=0.35.0 in /student/rolwesg/.local/lib/python3.7/site-packages (from neptune-client) (0.57.0)\n",
      "Requirement already satisfied: click>=7.0 in /student/rolwesg/.local/lib/python3.7/site-packages (from neptune-client) (7.1.1)\n",
      "Requirement already satisfied: future>=0.17.1 in /student/rolwesg/.local/lib/python3.7/site-packages (from neptune-client) (0.18.2)\n",
      "Requirement already satisfied: python-dateutil>=2.6.1 in /usr/lib/python3.7/site-packages (from pandas->neptune-client) (2.8.0)\n",
      "Requirement already satisfied: pytz>=2017.2 in /usr/lib/python3.7/site-packages (from pandas->neptune-client) (2019.2)\n",
      "Requirement already satisfied: numpy>=1.13.3 in /usr/lib64/python3.7/site-packages (from pandas->neptune-client) (1.17.4)\n",
      "Requirement already satisfied: chardet<3.1.0,>=3.0.2 in /usr/lib/python3.7/site-packages (from requests>=2.20.0->neptune-client) (3.0.4)\n",
      "Requirement already satisfied: idna<2.9,>=2.5 in /usr/lib/python3.7/site-packages (from requests>=2.20.0->neptune-client) (2.8)\n",
      "Requirement already satisfied: urllib3!=1.25.0,!=1.25.1,<1.26,>=1.21.1 in /usr/lib/python3.7/site-packages (from requests>=2.20.0->neptune-client) (1.25.7)\n",
      "Requirement already satisfied: simplejson in /student/rolwesg/.local/lib/python3.7/site-packages (from bravado->neptune-client) (3.17.2)\n",
      "Requirement already satisfied: pyyaml in /usr/lib64/python3.7/site-packages (from bravado->neptune-client) (5.3.1)\n",
      "Requirement already satisfied: monotonic in /student/rolwesg/.local/lib/python3.7/site-packages (from bravado->neptune-client) (1.5)\n",
      "Requirement already satisfied: typing-extensions in /student/rolwesg/.local/lib/python3.7/site-packages (from bravado->neptune-client) (3.7.4.3)\n",
      "Requirement already satisfied: bravado-core>=5.16.1 in /student/rolwesg/.local/lib/python3.7/site-packages (from bravado->neptune-client) (5.17.0)\n",
      "Requirement already satisfied: msgpack-python in /student/rolwesg/.local/lib/python3.7/site-packages (from bravado->neptune-client) (0.5.6)\n",
      "Requirement already satisfied: xmltodict in /student/rolwesg/.local/lib/python3.7/site-packages (from py3nvml->neptune-client) (0.12.0)\n",
      "Requirement already satisfied: gitdb<5,>=4.0.1 in /student/rolwesg/.local/lib/python3.7/site-packages (from GitPython>=2.0.8->neptune-client) (4.0.5)\n",
      "Requirement already satisfied: pyparsing>=2.0.2 in /usr/lib/python3.7/site-packages (from packaging->neptune-client) (2.4.0)\n",
      "Requirement already satisfied: jsonschema[format]>=2.5.1 in /usr/local/lib/python3.7/site-packages (from bravado-core>=5.16.1->bravado->neptune-client) (3.2.0)\n",
      "Requirement already satisfied: jsonref in /student/rolwesg/.local/lib/python3.7/site-packages (from bravado-core>=5.16.1->bravado->neptune-client) (0.2)\n",
      "Requirement already satisfied: swagger-spec-validator>=2.0.1 in /student/rolwesg/.local/lib/python3.7/site-packages (from bravado-core>=5.16.1->bravado->neptune-client) (2.7.3)\n",
      "Requirement already satisfied: msgpack>=0.5.2 in /student/rolwesg/.local/lib/python3.7/site-packages (from bravado-core>=5.16.1->bravado->neptune-client) (1.0.0)\n",
      "Requirement already satisfied: smmap<4,>=3.0.1 in /student/rolwesg/.local/lib/python3.7/site-packages (from gitdb<5,>=4.0.1->GitPython>=2.0.8->neptune-client) (3.0.4)\n",
      "Requirement already satisfied: setuptools in /usr/lib/python3.7/site-packages (from jsonschema[format]>=2.5.1->bravado-core>=5.16.1->bravado->neptune-client) (41.6.0)\n",
      "Requirement already satisfied: attrs>=17.4.0 in /usr/local/lib/python3.7/site-packages (from jsonschema[format]>=2.5.1->bravado-core>=5.16.1->bravado->neptune-client) (19.3.0)\n",
      "Requirement already satisfied: pyrsistent>=0.14.0 in /usr/local/lib64/python3.7/site-packages (from jsonschema[format]>=2.5.1->bravado-core>=5.16.1->bravado->neptune-client) (0.16.0)\n",
      "Requirement already satisfied: importlib-metadata; python_version < \"3.8\" in /student/rolwesg/.local/lib/python3.7/site-packages (from jsonschema[format]>=2.5.1->bravado-core>=5.16.1->bravado->neptune-client) (1.7.0)\n",
      "Requirement already satisfied: rfc3987; extra == \"format\" in /student/rolwesg/.local/lib/python3.7/site-packages (from jsonschema[format]>=2.5.1->bravado-core>=5.16.1->bravado->neptune-client) (1.3.8)\n",
      "Requirement already satisfied: jsonpointer>1.13; extra == \"format\" in /student/rolwesg/.local/lib/python3.7/site-packages (from jsonschema[format]>=2.5.1->bravado-core>=5.16.1->bravado->neptune-client) (2.0)\n",
      "Requirement already satisfied: strict-rfc3339; extra == \"format\" in /student/rolwesg/.local/lib/python3.7/site-packages (from jsonschema[format]>=2.5.1->bravado-core>=5.16.1->bravado->neptune-client) (0.7)\n",
      "Requirement already satisfied: webcolors; extra == \"format\" in /student/rolwesg/.local/lib/python3.7/site-packages (from jsonschema[format]>=2.5.1->bravado-core>=5.16.1->bravado->neptune-client) (1.11.1)\n",
      "Requirement already satisfied: zipp>=0.5 in /usr/local/lib/python3.7/site-packages (from importlib-metadata; python_version < \"3.8\"->jsonschema[format]>=2.5.1->bravado-core>=5.16.1->bravado->neptune-client) (3.1.0)\n"
     ]
    }
   ],
   "source": [
    "!pip install neptune-client --user"
   ]
  },
  {
   "cell_type": "markdown",
   "metadata": {},
   "source": [
    "Finally, you can also install Neptune using conda:"
   ]
  },
  {
   "cell_type": "code",
   "execution_count": null,
   "metadata": {},
   "outputs": [],
   "source": [
    "conda install -c conda-forge neptune-client"
   ]
  },
  {
   "cell_type": "markdown",
   "metadata": {},
   "source": [
    "### API Token\n",
    "To send your logs to your Neptune account, you'll need to add your Neptune API token to either your `.bashrc` or `.bash_profile`. You can find your token by clicking your profile icon in the Neptune UI, then \"Get Your API Token\". Then add the following to one of the two bash files:"
   ]
  },
  {
   "cell_type": "code",
   "execution_count": null,
   "metadata": {},
   "outputs": [],
   "source": [
    "export NEPTUNE_API_TOKEN=\"{YOUR TOKEN HERE}\""
   ]
  },
  {
   "cell_type": "markdown",
   "metadata": {},
   "source": [
    "Then run `source ~/.bash_profile` or `source ~/.bashrc` in your terminal."
   ]
  },
  {
   "cell_type": "markdown",
   "metadata": {},
   "source": [
    "## Using Neptune"
   ]
  },
  {
   "cell_type": "markdown",
   "metadata": {},
   "source": [
    "### Run Neptune Script\n",
    "The following is how you'll initialize Neptune in your code. Note \"sandbox\" is just the default project that's created with your account. This will change to whatever project you're logging to in real use cases.\n",
    "\n",
    "Running this cell should output a link. Go to that link and you should see your experiment!"
   ]
  },
  {
   "cell_type": "code",
   "execution_count": null,
   "metadata": {},
   "outputs": [],
   "source": [
    "import neptune\n",
    "\n",
    "neptune.init('{YOUR NEPTUNE USERNAME}/sandbox')\n",
    "neptune.create_experiment(name='minimal_example', params={'lr': 0.1}, tags=['resnet', 'CARS'])"
   ]
  },
  {
   "cell_type": "markdown",
   "metadata": {},
   "source": [
    "Note the `params` parameter you passed to `create_experiment`. This logs any sort of hyperparameters you want to remember to the UI. You can also add any tags to the experiment using the `tags` parameter."
   ]
  },
  {
   "cell_type": "markdown",
   "metadata": {},
   "source": [
    "### Logging Metrics\n",
    "Any time you want to log a value to neptune, simply run `neptune.log_metric` and pass the name of the metric you'd like to log to followed by the value.\n",
    "\n",
    "Run the below code, then check your experiment page again to see this fake loss logged."
   ]
  },
  {
   "cell_type": "code",
   "execution_count": null,
   "metadata": {},
   "outputs": [],
   "source": [
    "for i in range(100):\n",
    "    neptune.log_metric('loss', 0.95**i)"
   ]
  },
  {
   "cell_type": "markdown",
   "metadata": {},
   "source": [
    "### Logging Text or Images\n",
    "Many times we'll want to produce visualizations of our models' outputs in the form of histograms, tSNE plots, confusion matrices, or class activation maps. This can be easily done using `neptune.log_image` and passing the image label followed by the image.\n",
    "The image passed can be a PIL image, a matplotlib figure, a path to a saved image, or a 2D or 3D numpy array.\n",
    "\n",
    "**Note:** Images with the same label will be grouped together in logs, not overwritten. So for example I like to log \"Validation Histograms\""
   ]
  },
  {
   "cell_type": "code",
   "execution_count": null,
   "metadata": {},
   "outputs": [],
   "source": [
    "import numpy as np\n",
    "\n",
    "array = np.random.rand(10, 10, 3)*255\n",
    "array = np.repeat(array, 30, 0)\n",
    "array = np.repeat(array, 30, 1)\n",
    "neptune.log_image('mosaics', array)"
   ]
  },
  {
   "cell_type": "markdown",
   "metadata": {},
   "source": [
    "For NLP use cases, you can also log text like so:"
   ]
  },
  {
   "cell_type": "code",
   "execution_count": null,
   "metadata": {},
   "outputs": [],
   "source": [
    "neptune.log_text('top questions', 'what is machine learning?')"
   ]
  },
  {
   "cell_type": "markdown",
   "metadata": {},
   "source": [
    "### Logging Artifacts/Models\n",
    "One of my favorite Neptune features is logging artifacts. Many times I want to save my model weights so they can be reused later, but it's difficult to keep track of which model is which when they're saved locally. By using `neptune.log_artifact`, the file logged (such as a `.pkl` or `.pt` file) is logged within the experiment in the Neptune AI, so the file is always associated with that experiment and its parameters and results.\n",
    "\n",
    "To log an artifact, just pass the filepath like so:"
   ]
  },
  {
   "cell_type": "code",
   "execution_count": null,
   "metadata": {},
   "outputs": [],
   "source": [
    "neptune.log_artifact(\"{PATH TO FILE}\")"
   ]
  },
  {
   "cell_type": "markdown",
   "metadata": {},
   "source": [
    "\n",
    "\n",
    "\n",
    "Now check the Neptune UI for your experiment and explore all the logs you just created.\n",
    "\n",
    "There's a lot more you can do with Neptune, and I'll try to create notebooks about more advanced features if this one is well-received."
   ]
  },
  {
   "cell_type": "code",
   "execution_count": null,
   "metadata": {},
   "outputs": [],
   "source": []
  }
 ],
 "metadata": {
  "kernelspec": {
   "display_name": "Python 3",
   "language": "python",
   "name": "python3"
  },
  "language_info": {
   "codemirror_mode": {
    "name": "ipython",
    "version": 3
   },
   "file_extension": ".py",
   "mimetype": "text/x-python",
   "name": "python",
   "nbconvert_exporter": "python",
   "pygments_lexer": "ipython3",
   "version": "3.7.6"
  }
 },
 "nbformat": 4,
 "nbformat_minor": 4
}
