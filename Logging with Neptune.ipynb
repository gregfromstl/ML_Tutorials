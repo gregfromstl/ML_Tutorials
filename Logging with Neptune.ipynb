{
 "cells": [
  {
   "cell_type": "markdown",
   "metadata": {},
   "source": [
    "# Logging with Neptune\n",
    "\n",
    "## Introduction\n",
    "\n",
    "Neptune is a machine learning experiment logger that I've been using a lot recently. I've found it to be far more intuitive and powerful than Tensorboard. The setup is incredibly quick and it makes tracking, analyzing, and sharing results so much easier."
   ]
  },
  {
   "cell_type": "markdown",
   "metadata": {},
   "source": [
    "## Getting Started\n"
   ]
  },
  {
   "cell_type": "markdown",
   "metadata": {},
   "source": [
    "### Installation\n",
    "Neptune behaves just like any other python package, except it communicates with neptune's servers in the background to send all your logs to a constantly accessible web app UI.\n",
    "To install the neptune client on Mac or Linux, run the following command either in this notebook or in terminal:"
   ]
  },
  {
   "cell_type": "code",
   "execution_count": null,
   "metadata": {},
   "outputs": [],
   "source": [
    "!pip install neptune-client"
   ]
  },
  {
   "cell_type": "markdown",
   "metadata": {},
   "source": [
    "If you're on hopper, you may need to add the `user` flag:"
   ]
  },
  {
   "cell_type": "code",
   "execution_count": null,
   "metadata": {},
   "outputs": [],
   "source": [
    "!pip install neptune-client --user"
   ]
  },
  {
   "cell_type": "markdown",
   "metadata": {},
   "source": [
    "Finally, you can also install Neptune using conda:"
   ]
  },
  {
   "cell_type": "code",
   "execution_count": null,
   "metadata": {},
   "outputs": [],
   "source": [
    "conda install -c conda-forge neptune-client"
   ]
  },
  {
   "cell_type": "markdown",
   "metadata": {},
   "source": [
    "### API Token\n",
    "To send your logs to your Neptune account, you'll need to add your Neptune API token to either your `.bashrc` or `.bash_profile`. You can find your token by clicking your profile icon in the Neptune UI, then \"Get Your API Token\". Then add the following to one of the two bash files:"
   ]
  },
  {
   "cell_type": "code",
   "execution_count": null,
   "metadata": {},
   "outputs": [],
   "source": [
    "export NEPTUNE_API_TOKEN=\"{YOUR TOKEN HERE}\""
   ]
  },
  {
   "cell_type": "markdown",
   "metadata": {},
   "source": [
    "Then run `source ~/.bash_profile` or `source ~/.bashrc` in your terminal."
   ]
  },
  {
   "cell_type": "markdown",
   "metadata": {},
   "source": [
    "## Using Neptune"
   ]
  },
  {
   "cell_type": "markdown",
   "metadata": {},
   "source": [
    "### Run Neptune Script\n",
    "The following is how you'll initialize Neptune in your code. Note \"sandbox\" is just the default project that's created with your account. This will change to whatever project you're logging to in real use cases.\n",
    "\n",
    "Running this cell should output a link. Go to that link and you should see your experiment!"
   ]
  },
  {
   "cell_type": "code",
   "execution_count": null,
   "metadata": {},
   "outputs": [],
   "source": [
    "import neptune\n",
    "\n",
    "neptune.init('{YOUR NEPTUNE USERNAME}/sandbox')\n",
    "neptune.create_experiment(name='minimal_example', params={'lr': 0.1}, tags=['resnet', 'CARS'])"
   ]
  },
  {
   "cell_type": "markdown",
   "metadata": {},
   "source": [
    "Note the `params` parameter you passed to `create_experiment`. This logs any sort of hyperparameters you want to remember to the UI. You can also add any tags to the experiment using the `tags` parameter."
   ]
  },
  {
   "cell_type": "markdown",
   "metadata": {},
   "source": [
    "### Logging Metrics\n",
    "Any time you want to log a value to neptune, simply run `neptune.log_metric` and pass the name of the metric you'd like to log to followed by the value.\n",
    "\n",
    "Run the below code, then check your experiment page again to see this fake loss logged."
   ]
  },
  {
   "cell_type": "code",
   "execution_count": null,
   "metadata": {},
   "outputs": [],
   "source": [
    "for i in range(100):\n",
    "    neptune.log_metric('loss', 0.95**i)"
   ]
  },
  {
   "cell_type": "markdown",
   "metadata": {},
   "source": [
    "### Logging Text or Images\n",
    "Many times we'll want to produce visualizations of our models' outputs in the form of histograms, tSNE plots, confusion matrices, or class activation maps. This can be easily done using `neptune.log_image` and passing the image label followed by the image.\n",
    "The image passed can be a PIL image, a matplotlib figure, a path to a saved image, or a 2D or 3D numpy array.\n",
    "\n",
    "**Note:** Images with the same label will be grouped together in logs, not overwritten. So for example I like to log \"Validation Histograms\""
   ]
  },
  {
   "cell_type": "code",
   "execution_count": null,
   "metadata": {},
   "outputs": [],
   "source": [
    "import numpy as np\n",
    "\n",
    "array = np.random.rand(10, 10, 3)*255\n",
    "array = np.repeat(array, 30, 0)\n",
    "array = np.repeat(array, 30, 1)\n",
    "neptune.log_image('mosaics', array)"
   ]
  },
  {
   "cell_type": "markdown",
   "metadata": {},
   "source": [
    "For NLP use cases, you can also log text like so:"
   ]
  },
  {
   "cell_type": "code",
   "execution_count": null,
   "metadata": {},
   "outputs": [],
   "source": [
    "neptune.log_text('top questions', 'what is machine learning?')"
   ]
  },
  {
   "cell_type": "markdown",
   "metadata": {},
   "source": [
    "### Logging Artifacts/Models\n",
    "One of my favorite Neptune features is logging artifacts. Many times I want to save my model weights so they can be reused later, but it's difficult to keep track of which model is which when they're saved locally. By using `neptune.log_artifact`, the file logged (such as a `.pkl` or `.pt` file) is logged within the experiment in the Neptune AI, so the file is always associated with that experiment and its parameters and results.\n",
    "\n",
    "To log an artifact, just pass the filepath like so:"
   ]
  },
  {
   "cell_type": "code",
   "execution_count": null,
   "metadata": {},
   "outputs": [],
   "source": [
    "neptune.log_artifact(\"{PATH TO FILE}\")"
   ]
  },
  {
   "cell_type": "markdown",
   "metadata": {},
   "source": [
    "\n",
    "\n",
    "\n",
    "Now check the Neptune UI for your experiment and explore all the logs you just created.\n",
    "\n",
    "There's a lot more you can do with Neptune, and I'll try to create notebooks about more advanced features if this one is well-received."
   ]
  },
  {
   "cell_type": "code",
   "execution_count": null,
   "metadata": {},
   "outputs": [],
   "source": []
  }
 ],
 "metadata": {
  "kernelspec": {
   "display_name": "Python 3",
   "language": "python",
   "name": "python3"
  },
  "language_info": {
   "codemirror_mode": {
    "name": "ipython",
    "version": 3
   },
   "file_extension": ".py",
   "mimetype": "text/x-python",
   "name": "python",
   "nbconvert_exporter": "python",
   "pygments_lexer": "ipython3",
   "version": "3.7.6"
  }
 },
 "nbformat": 4,
 "nbformat_minor": 4
}
